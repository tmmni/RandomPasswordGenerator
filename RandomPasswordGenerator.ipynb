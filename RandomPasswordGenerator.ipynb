{
 "cells": [
  {
   "cell_type": "code",
   "execution_count": 30,
   "id": "6bdd60a4",
   "metadata": {},
   "outputs": [],
   "source": [
    "import random\n",
    "import string"
   ]
  },
  {
   "cell_type": "code",
   "execution_count": 44,
   "id": "ff6cf661",
   "metadata": {},
   "outputs": [
    {
     "name": "stdout",
     "output_type": "stream",
     "text": [
      "Enter the number of characters for generating your password - 2\n",
      "Please enter 8 or more characters!\n",
      "Enter the number of characters for generating your password - 90\n",
      "Number of characters is out of range!\n",
      "Enter the number of characters for generating your password - 10\n",
      "Your randomly generated password is kc'X9t\\f9K\n"
     ]
    }
   ],
   "source": [
    "while True:\n",
    "    x = int(input(\"Enter the number of characters for generating your password - \"))\n",
    "    if x in range(8):\n",
    "        print(\"Please enter 8 or more characters!\")\n",
    "        continue\n",
    "    elif x in range(8,11):\n",
    "        n = 2\n",
    "        break\n",
    "    elif x in range(11,14):\n",
    "        n=3\n",
    "        break\n",
    "    elif x in range(14,17):\n",
    "        n=4\n",
    "        break\n",
    "    else:\n",
    "        print('Number of characters is out of range!')\n",
    "spec = [random.choice(string.punctuation) for i in range(n)]\n",
    "num = [random.choice(string.digits) for i in range(n)]\n",
    "cap = [random.choice(string.ascii_uppercase) for i in range(n)]\n",
    "low = [random.choice(string.ascii_lowercase) for i in range(x-(3*n))]\n",
    "password = spec+num+cap+low\n",
    "random.shuffle(password)\n",
    "password = ''.join(password)\n",
    "print(f'Your randomly generated password is {password}')"
   ]
  },
  {
   "cell_type": "code",
   "execution_count": null,
   "id": "6b8a9e42",
   "metadata": {},
   "outputs": [],
   "source": []
  }
 ],
 "metadata": {
  "kernelspec": {
   "display_name": "Python 3 (ipykernel)",
   "language": "python",
   "name": "python3"
  },
  "language_info": {
   "codemirror_mode": {
    "name": "ipython",
    "version": 3
   },
   "file_extension": ".py",
   "mimetype": "text/x-python",
   "name": "python",
   "nbconvert_exporter": "python",
   "pygments_lexer": "ipython3",
   "version": "3.9.12"
  }
 },
 "nbformat": 4,
 "nbformat_minor": 5
}
