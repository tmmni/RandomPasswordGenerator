{
 "cells": [
  {
   "cell_type": "code",
   "execution_count": 30,
   "id": "6bdd60a4",
   "metadata": {},
   "outputs": [],
   "source": [
    "import random\n",
    "import string"
   ]
  },
  {
   "cell_type": "code",
   "execution_count": 39,
   "id": "a9ffa36c",
   "metadata": {},
   "outputs": [
    {
     "name": "stdout",
     "output_type": "stream",
     "text": [
      "Enter the number of characters for generating your password - 3\n",
      "Please enter 8 or more characters!\n",
      "Enter the number of characters for generating your password - 100\n",
      "Number of characters is out of range!\n",
      "Enter the number of characters for generating your password - 18\n",
      "Number of characters is out of range!\n",
      "Enter the number of characters for generating your password - 17\n",
      "Number of characters is out of range!\n",
      "Enter the number of characters for generating your password - 16\n",
      "Your randomly generated password is 0u%%lk0|A9QXpD@6\n"
     ]
    }
   ],
   "source": [
    "while True:\n",
    "    x = int(input(\"Enter the number of characters for generating your password - \"))\n",
    "    if x in range(8):\n",
    "        print(\"Please enter 8 or more characters!\")\n",
    "        continue\n",
    "    elif x in range(8,11):\n",
    "        spec = [random.choice(string.punctuation) for i in range(2)]\n",
    "        num = [random.choice(string.digits) for i in range(2)]\n",
    "        cap = [random.choice(string.ascii_uppercase) for i in range(2)]\n",
    "        low = [random.choice(string.ascii_lowercase) for i in range(x-6)]\n",
    "        password = spec+num+cap+low\n",
    "        random.shuffle(password)\n",
    "        password = ''.join(password)\n",
    "        print(f'Your randomly generated password is {password}')\n",
    "        break\n",
    "    elif x in range(11,14):\n",
    "        spec = [random.choice(string.punctuation) for i in range(3)]\n",
    "        num = [random.choice(string.digits) for i in range(3)]\n",
    "        cap = [random.choice(string.ascii_uppercase) for i in range(3)]\n",
    "        low = [random.choice(string.ascii_lowercase) for i in range(x-9)]\n",
    "        password = spec+num+cap+low\n",
    "        random.shuffle(password)\n",
    "        password = ''.join(password)\n",
    "        print(f'Your randomly generated password is {password}')\n",
    "        break\n",
    "    elif x in range(14,17):\n",
    "        spec = [random.choice(string.punctuation) for i in range(4)]\n",
    "        num = [random.choice(string.digits) for i in range(4)]\n",
    "        cap = [random.choice(string.ascii_uppercase) for i in range(4)]\n",
    "        low = [random.choice(string.ascii_lowercase) for i in range(x-12)]\n",
    "        password = spec+num+cap+low\n",
    "        random.shuffle(password)\n",
    "        password = ''.join(password)\n",
    "        print(f'Your randomly generated password is {password}')\n",
    "        break\n",
    "    else:\n",
    "        print('Number of characters is out of range!')\n",
    "        continue"
   ]
  },
  {
   "cell_type": "code",
   "execution_count": null,
   "id": "ff6cf661",
   "metadata": {},
   "outputs": [],
   "source": []
  }
 ],
 "metadata": {
  "kernelspec": {
   "display_name": "Python 3 (ipykernel)",
   "language": "python",
   "name": "python3"
  },
  "language_info": {
   "codemirror_mode": {
    "name": "ipython",
    "version": 3
   },
   "file_extension": ".py",
   "mimetype": "text/x-python",
   "name": "python",
   "nbconvert_exporter": "python",
   "pygments_lexer": "ipython3",
   "version": "3.9.12"
  }
 },
 "nbformat": 4,
 "nbformat_minor": 5
}
