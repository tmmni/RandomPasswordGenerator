{
 "cells": [
  {
   "cell_type": "code",
   "execution_count": 1,
   "id": "07f7b10a",
   "metadata": {},
   "outputs": [],
   "source": [
    "import random\n",
    "import string"
   ]
  },
  {
   "cell_type": "code",
   "execution_count": 2,
   "id": "555f68cd",
   "metadata": {},
   "outputs": [
    {
     "data": {
      "text/plain": [
       "\"lS'4rwp3\""
      ]
     },
     "execution_count": 2,
     "metadata": {},
     "output_type": "execute_result"
    }
   ],
   "source": [
    characters = (list(random.choice(string.ascii_lowercase)+random.choice(string.ascii_uppercase)+
 random.choice(string.punctuation)+random.choice(string.digits)+random.choice(string.ascii_lowercase)+
 random.choice(string.ascii_lowercase)+random.choice(string.ascii_letters)+random.choice(string.digits)))
random.shuffle(characters)
''.join(characters)
   ]
  }
 ],
 "metadata": {
  "kernelspec": {
   "display_name": "Python 3 (ipykernel)",
   "language": "python",
   "name": "python3"
  },
  "language_info": {
   "codemirror_mode": {
    "name": "ipython",
    "version": 3
   },
   "file_extension": ".py",
   "mimetype": "text/x-python",
   "name": "python",
   "nbconvert_exporter": "python",
   "pygments_lexer": "ipython3",
   "version": "3.9.7"
  }
 },
 "nbformat": 4,
 "nbformat_minor": 5
}
